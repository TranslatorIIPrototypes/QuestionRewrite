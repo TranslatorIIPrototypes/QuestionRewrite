{
 "cells": [
  {
   "cell_type": "markdown",
   "metadata": {},
   "source": [
    "# Question Augmentation (Edge Expanding)\n",
    "\n",
    "Users, who do not know the details of the underlying data, need help in constructing meaningful queries.   This service takes queries, and attempts to expand each edge using rules that maximize precision and recall."
   ]
  },
  {
   "cell_type": "code",
   "execution_count": 40,
   "metadata": {},
   "outputs": [],
   "source": [
    "import requests\n",
    "import json\n",
    "import time\n",
    "\n",
    "#GammaViewer available from https://github.com/ranking-agent/gamma-viewer\n",
    "from GammaViewer import GammaViewer\n",
    "from IPython.display import display"
   ]
  },
  {
   "cell_type": "code",
   "execution_count": 41,
   "metadata": {},
   "outputs": [],
   "source": [
    "class Strider:\n",
    "    def __init__(self):\n",
    "        self.url='http://robokop.renci.org:5781'\n",
    "    def call(self,question):\n",
    "        message = {'message': {'query_graph': question}}\n",
    "        return self.send_message(message)\n",
    "    def send_message(self,message):\n",
    "        response = requests.post(f'{self.url}/query',json=message)\n",
    "        if response.status_code == 200:\n",
    "            pid = response.json()\n",
    "            return pid\n",
    "        else:\n",
    "            print(response.status_code)\n",
    "            return None\n",
    "    def query_result(self,pid):\n",
    "        r = requests.get(f'{self.url}/results',params={'query_id':pid})\n",
    "        print(json.dumps(r.json(),indent=2))\n",
    "    \n",
    "strider = Strider()"
   ]
  },
  {
   "cell_type": "code",
   "execution_count": 42,
   "metadata": {},
   "outputs": [],
   "source": [
    "def draw_query(query):\n",
    "    message = {'message': {'query_graph': query, \n",
    "                           'knowledge_graph':{\"nodes\": [], \"edges\": [],}, \n",
    "                           'results':[{\"node_bindings\": [],\"edge_bindings\": [],\n",
    "    }]}}\n",
    "    react_component = GammaViewer(props={\"data\":message['message']})\n",
    "    display(react_component)"
   ]
  },
  {
   "cell_type": "markdown",
   "metadata": {},
   "source": [
    "For each edge type, we have precomputed translations that optimally balance precision and recall.  Here, we have a question \"What drugs treat type-2 diabetes?\""
   ]
  },
  {
   "cell_type": "code",
   "execution_count": 43,
   "metadata": {},
   "outputs": [],
   "source": [
    "question = { 'nodes': [{'id':'n0', 'type':'chemical_substance'},\n",
    "                      {'id': 'n1', 'type':'disease', 'curie': 'MONDO:0005148'}],\n",
    "             'edges': [ {'id': 'e0', 'source_id': 'n0', 'target_id': 'n1', 'type': 'treats'}]}"
   ]
  },
  {
   "cell_type": "code",
   "execution_count": 44,
   "metadata": {},
   "outputs": [],
   "source": [
    "draw_query(question)"
   ]
  },
  {
   "cell_type": "markdown",
   "metadata": {},
   "source": [
    "Running this query would produce answers, but these answers are those chemicals for which an explicit 'treats' edge occurs in the (federated) graph.  It tells us known treatments, but doesn't help us find new ones.\n",
    "\n",
    "We would like to run a query that may infer new chemicals to treat diabetes.  But what query should we run?  How should we modify our treats query to create a query that may infer new edges?  We can call our Question Augmentation service:"
   ]
  },
  {
   "cell_type": "code",
   "execution_count": 45,
   "metadata": {},
   "outputs": [
    {
     "name": "stdout",
     "output_type": "stream",
     "text": [
      "9\n"
     ]
    }
   ],
   "source": [
    "message = {'message': {'query_graph': question}}\n",
    "qa_url = 'https://questionaugmentation.renci.org/edge_expand'\n",
    "rq = requests.post(qa_url,json=message, params={'depth':1})\n",
    "new_questions = rq.json()\n",
    "print(len(new_questions))"
   ]
  },
  {
   "cell_type": "code",
   "execution_count": 46,
   "metadata": {},
   "outputs": [],
   "source": [
    "q = new_questions[1]['query_graph']\n",
    "draw_query(q)"
   ]
  },
  {
   "cell_type": "code",
   "execution_count": 47,
   "metadata": {},
   "outputs": [
    {
     "name": "stdout",
     "output_type": "stream",
     "text": [
      "['chemical_substance', 'derives_from->', 'chemical_substance', 'treats->', 'MONDO:0005148']\n",
      "['chemical_substance', '<-affects_response_to', 'gene', '<-disease_to_gene_association', 'MONDO:0005148']\n",
      "['chemical_substance', '<-increases_response_to', 'gene', '<-disease_to_gene_association', 'MONDO:0005148']\n",
      "['chemical_substance', '<-decreases_response_to', 'gene', '<-disease_to_gene_association', 'MONDO:0005148']\n",
      "['chemical_substance', 'increases_activity_of->', 'gene', '<-disease_to_gene_association', 'MONDO:0005148']\n",
      "['chemical_substance', 'interacts_with->', 'gene', '<-disease_to_gene_association', 'MONDO:0005148']\n",
      "['chemical_substance', 'decreases_activity_of->', 'gene', '<-disease_to_gene_association', 'MONDO:0005148']\n",
      "['chemical_substance', 'decreases_expression_of->', 'gene', '<-disease_to_gene_association', 'MONDO:0005148']\n",
      "['chemical_substance', 'affects_activity_of->', 'gene', '<-disease_to_gene_association', 'MONDO:0005148']\n"
     ]
    }
   ],
   "source": [
    "#print the new questions (in a non-general way)\n",
    "for q in new_questions:\n",
    "    nodes = q['query_graph']['nodes']\n",
    "    edges = q['query_graph']['edges']\n",
    "    if 'n0' in (edges[0]['source_id'],edges[0]['target_id']):\n",
    "        e0 = edges[0]\n",
    "        e1 = edges[1]\n",
    "    else:\n",
    "        e0 = edges[1]\n",
    "        e1 = edges[0]\n",
    "    if e0['source_id']=='n0':\n",
    "        e0_rep = f'{e0[\"type\"]}->'\n",
    "    else:\n",
    "        e0_rep = f'<-{e0[\"type\"]}'\n",
    "    if e1['target_id']=='n1':\n",
    "        e1_rep = f'{e1[\"type\"]}->'\n",
    "    else:\n",
    "        e1_rep = f'<-{e1[\"type\"]}'\n",
    "    line=[nodes[0]['type'], e0_rep, nodes[2]['type'], e1_rep, nodes[1]['curie']]\n",
    "    print(line)"
   ]
  },
  {
   "cell_type": "markdown",
   "metadata": {},
   "source": [
    "In the above, we expanded a single edge, because there was only a single edge in the query, but the service will expand every edge.   In this prototype, each edge is expanded independently, leading potentially to a lot of possible questions."
   ]
  },
  {
   "cell_type": "code",
   "execution_count": 48,
   "metadata": {},
   "outputs": [],
   "source": [
    "two_step_question = new_questions[-1]"
   ]
  },
  {
   "cell_type": "code",
   "execution_count": 49,
   "metadata": {},
   "outputs": [
    {
     "name": "stdout",
     "output_type": "stream",
     "text": [
      "7\n"
     ]
    }
   ],
   "source": [
    "message2 = {'message': two_step_question}\n",
    "qa_url = 'https://questionaugmentation.renci.org/edge_expand'\n",
    "rq = requests.post(qa_url,json=message2)\n",
    "new_questions = rq.json()\n",
    "print(len(new_questions))"
   ]
  },
  {
   "cell_type": "code",
   "execution_count": 52,
   "metadata": {},
   "outputs": [],
   "source": [
    "q = new_questions[3]['query_graph']\n",
    "draw_query(q)"
   ]
  },
  {
   "cell_type": "code",
   "execution_count": 50,
   "metadata": {},
   "outputs": [],
   "source": [
    "q = new_questions[1]['query_graph']\n",
    "draw_query(q)"
   ]
  },
  {
   "cell_type": "code",
   "execution_count": 51,
   "metadata": {},
   "outputs": [],
   "source": [
    "q = new_questions[4]['query_graph']\n",
    "draw_query(q)"
   ]
  },
  {
   "cell_type": "code",
   "execution_count": null,
   "metadata": {},
   "outputs": [],
   "source": []
  }
 ],
 "metadata": {
  "kernelspec": {
   "display_name": "Python 3",
   "language": "python",
   "name": "python3"
  },
  "language_info": {
   "codemirror_mode": {
    "name": "ipython",
    "version": 3
   },
   "file_extension": ".py",
   "mimetype": "text/x-python",
   "name": "python",
   "nbconvert_exporter": "python",
   "pygments_lexer": "ipython3",
   "version": "3.7.5"
  }
 },
 "nbformat": 4,
 "nbformat_minor": 4
}
