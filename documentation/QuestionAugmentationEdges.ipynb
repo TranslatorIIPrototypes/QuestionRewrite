{
 "cells": [
  {
   "cell_type": "markdown",
   "metadata": {},
   "source": [
    "# Question Augmentation (Edge Expanding)\n",
    "\n",
    "Users, who do not know the details of the underlying data, need help in constructing meaningful queries.   This service takes queries, and attempts to expand each edge using rules that maximize precision and recall."
   ]
  },
  {
   "cell_type": "code",
   "execution_count": 1,
   "metadata": {},
   "outputs": [],
   "source": [
    "import requests\n",
    "import json\n",
    "from notebook_functions import reasonerGraphToCytoscape, knowledgeGraphToCytoscape\n",
    "from cyjupyter import Cytoscape\n",
    "import time"
   ]
  },
  {
   "cell_type": "code",
   "execution_count": 2,
   "metadata": {},
   "outputs": [],
   "source": [
    "class Strider:\n",
    "    def __init__(self):\n",
    "        self.url='http://robokop.renci.org:5781'\n",
    "    def call(self,question):\n",
    "        message = {'message': {'query_graph': question}}\n",
    "        return self.send_message(message)\n",
    "    def send_message(self,message):\n",
    "        response = requests.post(f'{self.url}/query',json=message)\n",
    "        if response.status_code == 200:\n",
    "            pid = response.json()\n",
    "            return pid\n",
    "        else:\n",
    "            print(response.status_code)\n",
    "            return None\n",
    "    def query_result(self,pid):\n",
    "        r = requests.get(f'{self.url}/results',params={'query_id':pid})\n",
    "        print(json.dumps(r.json(),indent=2))\n",
    "    \n",
    "strider = Strider()"
   ]
  },
  {
   "cell_type": "markdown",
   "metadata": {},
   "source": [
    "For each edge type, we have precomputed translations that optimally balance precision and recall.  Here, we have a question \"What drugs treat type-2 diabetes?\""
   ]
  },
  {
   "cell_type": "code",
   "execution_count": 3,
   "metadata": {},
   "outputs": [],
   "source": [
    "question = { 'nodes': [{'id':'n0', 'type':'chemical_substance'},\n",
    "                      {'id': 'n1', 'type':'disease', 'curie': 'MONDO:0005148'}],\n",
    "             'edges': [ {'id': 'e0', 'source_id': 'n0', 'target_id': 'n1', 'type': 'treats'}]}"
   ]
  },
  {
   "cell_type": "code",
   "execution_count": 4,
   "metadata": {},
   "outputs": [
    {
     "data": {
      "application/vnd.jupyter.widget-view+json": {
       "model_id": "5dfbe659c88d45dba5cba867d921d0cd",
       "version_major": 2,
       "version_minor": 0
      },
      "text/plain": [
       "Cytoscape(data={'elements': {'nodes': [{'data': {'id': 'n0', 'label': 'chemical_substance\\n[]', 'curie': '', '…"
      ]
     },
     "metadata": {},
     "output_type": "display_data"
    }
   ],
   "source": [
    "c=reasonerGraphToCytoscape(question)\n",
    "c['style'][0]['style']['width']='15em'\n",
    "Cytoscape(data=c, visual_style=c[\"style\"], layout_name='grid', layout={\"name\": \"grid\", \"height\": \"200px\"})"
   ]
  },
  {
   "cell_type": "markdown",
   "metadata": {},
   "source": [
    "Running this query will produce answers:"
   ]
  },
  {
   "cell_type": "markdown",
   "metadata": {},
   "source": [
    "Running this query would produce answers, but these answers are those chemicals for which an explicit 'treats' edge occurs in the (federated) graph.  It tells us known treatments, but doesn't help us find new ones.\n",
    "\n",
    "We would like to run a query that may infer new chemicals to treat diabetes.  But what query should we run?  How should we modify our treats query to create a query that may infer new edges?  We can call our Question Augmentation service:"
   ]
  },
  {
   "cell_type": "code",
   "execution_count": 5,
   "metadata": {},
   "outputs": [],
   "source": [
    "message = {'message': {'query_graph': question}}\n",
    "qa_url = 'https://questionaugmentation.renci.org/edge_expand'\n",
    "rq = requests.post(qa_url,json=message, params={'depth':1})\n",
    "new_questions = rq.json()"
   ]
  },
  {
   "cell_type": "code",
   "execution_count": 6,
   "metadata": {},
   "outputs": [
    {
     "data": {
      "application/vnd.jupyter.widget-view+json": {
       "model_id": "8c3b99bfaece4dd7af8e195742009f40",
       "version_major": 2,
       "version_minor": 0
      },
      "text/plain": [
       "Cytoscape(data={'elements': {'nodes': [{'data': {'id': 'n0', 'label': 'chemical_substance\\n[]', 'curie': '', '…"
      ]
     },
     "metadata": {},
     "output_type": "display_data"
    }
   ],
   "source": [
    "q = new_questions[0]\n",
    "c=reasonerGraphToCytoscape(q['query_graph'])\n",
    "Cytoscape(data=c, visual_style=c[\"style\"], layout_name='grid', layout={\"name\": \"grid\", \"height\": \"200px\"})"
   ]
  },
  {
   "cell_type": "code",
   "execution_count": 11,
   "metadata": {},
   "outputs": [
    {
     "name": "stdout",
     "output_type": "stream",
     "text": [
      "['chemical_substance', 'derives_from->', 'chemical_substance', 'treats->', 'MONDO:0005148']\n",
      "['chemical_substance', '<-affects_response_to', 'gene', '<-disease_to_gene_association', 'MONDO:0005148']\n",
      "['chemical_substance', '<-increases_response_to', 'gene', '<-disease_to_gene_association', 'MONDO:0005148']\n",
      "['chemical_substance', '<-decreases_response_to', 'gene', '<-disease_to_gene_association', 'MONDO:0005148']\n",
      "['chemical_substance', 'increases_activity_of->', 'gene', '<-disease_to_gene_association', 'MONDO:0005148']\n",
      "['chemical_substance', 'interacts_with->', 'gene', '<-disease_to_gene_association', 'MONDO:0005148']\n",
      "['chemical_substance', 'decreases_activity_of->', 'gene', '<-disease_to_gene_association', 'MONDO:0005148']\n",
      "['chemical_substance', 'decreases_expression_of->', 'gene', '<-disease_to_gene_association', 'MONDO:0005148']\n",
      "['chemical_substance', 'affects_activity_of->', 'gene', '<-disease_to_gene_association', 'MONDO:0005148']\n"
     ]
    }
   ],
   "source": [
    "#print the new questions (in a non-general way)\n",
    "for q in new_questions:\n",
    "    nodes = q['query_graph']['nodes']\n",
    "    edges = q['query_graph']['edges']\n",
    "    if 'n0' in (edges[0]['source_id'],edges[0]['target_id']):\n",
    "        e0 = edges[0]\n",
    "        e1 = edges[1]\n",
    "    else:\n",
    "        e0 = edges[1]\n",
    "        e1 = edges[0]\n",
    "    if e0['source_id']=='n0':\n",
    "        e0_rep = f'{e0[\"type\"]}->'\n",
    "    else:\n",
    "        e0_rep = f'<-{e0[\"type\"]}'\n",
    "    if e1['target_id']=='n1':\n",
    "        e1_rep = f'{e1[\"type\"]}->'\n",
    "    else:\n",
    "        e1_rep = f'<-{e1[\"type\"]}'\n",
    "    line=[nodes[0]['type'], e0_rep, nodes[2]['type'], e1_rep, nodes[1]['curie']]\n",
    "    print(line)"
   ]
  },
  {
   "cell_type": "markdown",
   "metadata": {},
   "source": [
    "In the above, we expanded a single edge, because there was only a single edge in the query, but the service will expand every edge.   In this prototype, each edge is expanded independently, leading potentially to a lot of possible questions."
   ]
  },
  {
   "cell_type": "code",
   "execution_count": 14,
   "metadata": {},
   "outputs": [],
   "source": [
    "two_step_question = new_questions[-1]"
   ]
  },
  {
   "cell_type": "code",
   "execution_count": 15,
   "metadata": {},
   "outputs": [
    {
     "name": "stdout",
     "output_type": "stream",
     "text": [
      "7\n"
     ]
    }
   ],
   "source": [
    "message2 = {'message': two_step_question}\n",
    "qa_url = 'https://questionaugmentation.renci.org/edge_expand'\n",
    "rq = requests.post(qa_url,json=message2)\n",
    "new_questions = rq.json()\n",
    "print(len(new_questions))"
   ]
  },
  {
   "cell_type": "code",
   "execution_count": 23,
   "metadata": {},
   "outputs": [
    {
     "data": {
      "application/vnd.jupyter.widget-view+json": {
       "model_id": "3917df66ee554c0c9d1098258d242f58",
       "version_major": 2,
       "version_minor": 0
      },
      "text/plain": [
       "Cytoscape(data={'elements': {'nodes': [{'data': {'id': 'n0', 'label': 'chemical_substance\\n[]', 'curie': '', '…"
      ]
     },
     "metadata": {},
     "output_type": "display_data"
    }
   ],
   "source": [
    "q = new_questions[6]\n",
    "c=reasonerGraphToCytoscape(q['query_graph'])\n",
    "Cytoscape(data=c, visual_style=c[\"style\"], layout_name='grid', layout={\"name\": \"grid\", \"height\": \"400px\"})"
   ]
  },
  {
   "cell_type": "code",
   "execution_count": 24,
   "metadata": {},
   "outputs": [
    {
     "data": {
      "application/vnd.jupyter.widget-view+json": {
       "model_id": "8a0c5be9538341aba8464e6e3f467865",
       "version_major": 2,
       "version_minor": 0
      },
      "text/plain": [
       "Cytoscape(data={'elements': {'nodes': [{'data': {'id': 'n0', 'label': 'chemical_substance\\n[]', 'curie': '', '…"
      ]
     },
     "metadata": {},
     "output_type": "display_data"
    }
   ],
   "source": [
    "q = new_questions[3]\n",
    "c=reasonerGraphToCytoscape(q['query_graph'])\n",
    "Cytoscape(data=c, visual_style=c[\"style\"], layout_name='grid', layout={\"name\": \"grid\", \"height\": \"400px\"})"
   ]
  }
 ],
 "metadata": {
  "kernelspec": {
   "display_name": "Python 3",
   "language": "python",
   "name": "python3"
  },
  "language_info": {
   "codemirror_mode": {
    "name": "ipython",
    "version": 3
   },
   "file_extension": ".py",
   "mimetype": "text/x-python",
   "name": "python",
   "nbconvert_exporter": "python",
   "pygments_lexer": "ipython3",
   "version": "3.7.5"
  }
 },
 "nbformat": 4,
 "nbformat_minor": 4
}
