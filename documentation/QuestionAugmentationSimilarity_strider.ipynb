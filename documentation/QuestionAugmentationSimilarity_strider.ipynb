{
 "cells": [
  {
   "cell_type": "markdown",
   "metadata": {},
   "source": [
    "# Question Augmentation (similarity)\n",
    "\n",
    "A frequent source of difficulty in using Translator Knowledge Graphs is the traversal of similar nodes.  If two non-identical (but very similar) concepts exist, they may be independently associated with other information by individual KPs.  If a user is unaware of this subtlety, it is easy to miss highly relevant answers."
   ]
  },
  {
   "cell_type": "markdown",
   "metadata": {},
   "source": [
    "Here is a simple query: (gene)--(chemical)--(disease).  This query might be used to explain gene/disease relationships that are driven by some metabolic process.   For instance, there is a known association between the gene SLC34A1 and Fanconi Syndrome:"
   ]
  },
  {
   "cell_type": "code",
   "execution_count": 48,
   "metadata": {},
   "outputs": [],
   "source": [
    "import requests\n",
    "import json\n",
    "from notebook_functions import reasonerGraphToCytoscape, knowledgeGraphToCytoscape\n",
    "from cyjupyter import Cytoscape\n",
    "import time"
   ]
  },
  {
   "cell_type": "code",
   "execution_count": 49,
   "metadata": {},
   "outputs": [],
   "source": [
    "class Strider:\n",
    "    def __init__(self):\n",
    "        self.url='http://robokop.renci.org:5781'\n",
    "    def call(self,question):\n",
    "        message = {'message': {'query_graph': question}}\n",
    "        return self.send_message(message)\n",
    "    def send_message(self,message):\n",
    "        response = requests.post(f'{self.url}/query',json=message)\n",
    "        if response.status_code == 200:\n",
    "            pid = response.json()\n",
    "            return pid\n",
    "        else:\n",
    "            print(response.status_code)\n",
    "            return None\n",
    "    def query_result(self,pid):\n",
    "        r = requests.get(f'{self.url}/results',params={'query_id':pid})\n",
    "        return r.json()\n",
    "        \n",
    "    \n",
    "strider = Strider()"
   ]
  },
  {
   "cell_type": "markdown",
   "metadata": {},
   "source": [
    "## The relationship between the gene and disease is a known one."
   ]
  },
  {
   "cell_type": "code",
   "execution_count": 50,
   "metadata": {},
   "outputs": [],
   "source": [
    "question = { 'nodes': [{'id':'n0', 'type':'gene', 'curie':'NCBIGene:6569'},\n",
    "                      {'id': 'n1', 'type':'disease', 'curie': 'MONDO:0001083'}],\n",
    "             'edges': [ {'id': 'e0', 'source_id': 'n0', 'target_id': 'n1', 'type': 'contributes_to'}]}\n",
    "message = {'message': {'query_graph': question}}"
   ]
  },
  {
   "cell_type": "code",
   "execution_count": 51,
   "metadata": {
    "scrolled": true
   },
   "outputs": [
    {
     "data": {
      "application/vnd.jupyter.widget-view+json": {
       "model_id": "8a739066b15245c2bc03923b1e25a707",
       "version_major": 2,
       "version_minor": 0
      },
      "text/plain": [
       "Cytoscape(data={'elements': {'nodes': [{'data': {'id': 'n0', 'label': 'gene\\n[NCBIGene:6569]', 'curie': 'NCBIG…"
      ]
     },
     "metadata": {},
     "output_type": "display_data"
    }
   ],
   "source": [
    "c=reasonerGraphToCytoscape(question)\n",
    "Cytoscape(data=c, visual_style=c[\"style\"], layout_name='grid', layout={\"name\": \"grid\", \"height\": \"200px\"})"
   ]
  },
  {
   "cell_type": "code",
   "execution_count": 52,
   "metadata": {},
   "outputs": [
    {
     "name": "stdout",
     "output_type": "stream",
     "text": [
      "a4d6c18d-e3b3-491e-b907-c51e7752aa31\n"
     ]
    }
   ],
   "source": [
    "q = strider.send_message(message)\n",
    "print(q)"
   ]
  },
  {
   "cell_type": "code",
   "execution_count": 54,
   "metadata": {},
   "outputs": [
    {
     "name": "stdout",
     "output_type": "stream",
     "text": [
      "results found\n"
     ]
    }
   ],
   "source": [
    "r=strider.query_result(q)\n",
    "while len(r['results']) == 0:\n",
    "    time.sleep(1)\n",
    "    print('checking')\n",
    "    r = strider.query_result(q)\n",
    "print('results found')"
   ]
  },
  {
   "cell_type": "code",
   "execution_count": 55,
   "metadata": {},
   "outputs": [
    {
     "data": {
      "application/vnd.jupyter.widget-view+json": {
       "model_id": "6e637f445a4c46589bd6eeaa295955a4",
       "version_major": 2,
       "version_minor": 0
      },
      "text/plain": [
       "Cytoscape(data={'elements': {'nodes': [{'data': {'id': 'NCBIGene:6569', 'label': 'SLC34A1\\n[NCBIGene:6569]', '…"
      ]
     },
     "metadata": {},
     "output_type": "display_data"
    }
   ],
   "source": [
    "c=knowledgeGraphToCytoscape(r['knowledge_graph'])\n",
    "Cytoscape(data=c, visual_style=c[\"style\"], layout_name='grid', layout={\"name\": \"grid\", \"height\": \"200px\"})"
   ]
  },
  {
   "cell_type": "markdown",
   "metadata": {},
   "source": [
    "## There is no chemical relating the gene to the disease"
   ]
  },
  {
   "cell_type": "code",
   "execution_count": 56,
   "metadata": {},
   "outputs": [
    {
     "data": {
      "application/vnd.jupyter.widget-view+json": {
       "model_id": "d627061b7ac64dec8381e4a93ddd125d",
       "version_major": 2,
       "version_minor": 0
      },
      "text/plain": [
       "Cytoscape(data={'elements': {'nodes': [{'data': {'id': 'n0', 'label': 'gene\\n[NCBIGene:6569]', 'curie': 'NCBIG…"
      ]
     },
     "metadata": {},
     "output_type": "display_data"
    }
   ],
   "source": [
    "question = { 'nodes': [{'id':'n0', 'type':'gene', 'curie':'NCBIGene:6569'},\n",
    "                       {'id':'n1', 'type':'chemical_substance'},\n",
    "                      {'id': 'n2', 'type':'disease', 'curie':'MONDO:0001083'}],\n",
    "             'edges': [ {'id': 'e0', 'source_id': 'n0', 'target_id': 'n1', 'type':'increases_degradation_of'},\n",
    "                        {'id': 'e1', 'source_id': 'n1', 'target_id': 'n2', 'type':'related_to'}]}\n",
    "message = {'message': {'query_graph': question}}\n",
    "\n",
    "c=reasonerGraphToCytoscape(question)\n",
    "c['style'][0]['style']['width']='10em'\n",
    "Cytoscape(data=c, visual_style=c[\"style\"], layout_name='grid', layout={\"name\": \"grid\", \"height\": \"200px\"})\n"
   ]
  },
  {
   "cell_type": "code",
   "execution_count": 57,
   "metadata": {
    "scrolled": true
   },
   "outputs": [],
   "source": [
    "q = strider.send_message(message)"
   ]
  },
  {
   "cell_type": "code",
   "execution_count": 60,
   "metadata": {},
   "outputs": [
    {
     "name": "stdout",
     "output_type": "stream",
     "text": [
      "[]\n"
     ]
    }
   ],
   "source": [
    "r=strider.query_result(q)\n",
    "print(r['results'])"
   ]
  },
  {
   "cell_type": "markdown",
   "metadata": {},
   "source": [
    "## We can augment the question with similarity"
   ]
  },
  {
   "cell_type": "code",
   "execution_count": 61,
   "metadata": {},
   "outputs": [
    {
     "data": {
      "application/vnd.jupyter.widget-view+json": {
       "model_id": "58188ec6def64529a054f40d5842fbae",
       "version_major": 2,
       "version_minor": 0
      },
      "text/plain": [
       "Cytoscape(data={'elements': {'nodes': [{'data': {'id': 'n0', 'label': 'gene\\n[NCBIGene:6569]', 'curie': 'NCBIG…"
      ]
     },
     "metadata": {},
     "output_type": "display_data"
    }
   ],
   "source": [
    "qa_url = 'https://questionaugmentation.renci.org/node_expand'\n",
    "rq = requests.post(qa_url,json=message)\n",
    "new_questions = rq.json()\n",
    "newq = new_questions[0]\n",
    "\n",
    "c=reasonerGraphToCytoscape(newq['query_graph'])\n",
    "c['style'][0]['style']['width']='12em'\n",
    "Cytoscape(data=c, visual_style=c[\"style\"], layout_name='grid', layout={ \"height\": \"200px\"})"
   ]
  },
  {
   "cell_type": "code",
   "execution_count": 63,
   "metadata": {},
   "outputs": [],
   "source": [
    "newmessage = {'message': newq}\n",
    "q = strider.send_message(newmessage)"
   ]
  },
  {
   "cell_type": "code",
   "execution_count": 66,
   "metadata": {},
   "outputs": [
    {
     "name": "stdout",
     "output_type": "stream",
     "text": [
      "results found\n"
     ]
    }
   ],
   "source": [
    "r=strider.query_result(q)\n",
    "while len(r['results']) == 0:\n",
    "    time.sleep(1)\n",
    "    print('checking')\n",
    "    r = strider.query_result(q)\n",
    "print('results found')"
   ]
  },
  {
   "cell_type": "code",
   "execution_count": 67,
   "metadata": {},
   "outputs": [
    {
     "data": {
      "application/vnd.jupyter.widget-view+json": {
       "model_id": "61ca5abb666347fe80b28580bca01135",
       "version_major": 2,
       "version_minor": 0
      },
      "text/plain": [
       "Cytoscape(data={'elements': {'nodes': [{'data': {'id': 'NCBIGene:6569', 'label': 'SLC34A1\\n[NCBIGene:6569]', '…"
      ]
     },
     "metadata": {},
     "output_type": "display_data"
    }
   ],
   "source": [
    "c=knowledgeGraphToCytoscape(r['knowledge_graph'])\n",
    "Cytoscape(data=c, visual_style=c[\"style\"], layout_name='cose', layout={\"height\": \"400px\"})"
   ]
  }
 ],
 "metadata": {
  "kernelspec": {
   "display_name": "Python 3",
   "language": "python",
   "name": "python3"
  },
  "language_info": {
   "codemirror_mode": {
    "name": "ipython",
    "version": 3
   },
   "file_extension": ".py",
   "mimetype": "text/x-python",
   "name": "python",
   "nbconvert_exporter": "python",
   "pygments_lexer": "ipython3",
   "version": "3.7.5"
  }
 },
 "nbformat": 4,
 "nbformat_minor": 4
}
