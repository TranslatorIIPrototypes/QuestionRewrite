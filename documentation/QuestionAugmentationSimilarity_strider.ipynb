{
 "cells": [
  {
   "cell_type": "markdown",
   "metadata": {},
   "source": [
    "# Question Augmentation (similarity)\n",
    "\n",
    "A frequent source of difficulty in using Translator Knowledge Graphs is the traversal of similar nodes.  If two non-identical (but very similar) concepts exist, they may be independently associated with other information by individual KPs.  If a user is unaware of this subtlety, it is easy to miss highly relevant answers."
   ]
  },
  {
   "cell_type": "markdown",
   "metadata": {},
   "source": [
    "Here is a simple query: (gene)--(chemical)--(disease).  This query might be used to explain gene/disease relationships that are driven by some metabolic process.   For instance, there is a known association between the gene SLC34A1 and Fanconi Syndrome:"
   ]
  },
  {
   "cell_type": "code",
   "execution_count": 1,
   "metadata": {},
   "outputs": [],
   "source": [
    "class Strider:\n",
    "    def __init__(self):\n",
    "        self.url='http://robokop.renci.org:5781'\n",
    "    def call(self,question):\n",
    "        message = {'message': {'query_graph': question}}\n",
    "        return self.send_message(message)\n",
    "    def send_message(self,message):\n",
    "        response = requests.post(f'{self.url}/query',json=message)\n",
    "        if response.status_code == 200:\n",
    "            pid = response.json()\n",
    "            return pid\n",
    "        else:\n",
    "            print(response.status_code)\n",
    "            return None\n",
    "    def query_result(self,pid):\n",
    "        r = requests.get(f'{self.url}/results',params={'query_id':pid})\n",
    "        print(json.dumps(r.json(),indent=2))\n",
    "    \n",
    "strider = Strider()"
   ]
  },
  {
   "cell_type": "code",
   "execution_count": 2,
   "metadata": {},
   "outputs": [],
   "source": [
    "def get_view_url(returnanswer,robokop='robokop.renci.org'):\n",
    "    \"\"\"Given an answer in KGS v0.9 format, post the answer to robokop, and return a link that can be followed to\n",
    "    view the answer in the UI\"\"\"\n",
    "    view_post_url = f'https://{robokop}/api/simple/view/'\n",
    "    view_post_response = requests.post(view_post_url, json=returnanswer)\n",
    "    uid=view_post_response.json()\n",
    "    view_url = f'https://{robokop}/simple/view/{uid}'\n",
    "    return view_url"
   ]
  },
  {
   "cell_type": "code",
   "execution_count": 3,
   "metadata": {},
   "outputs": [],
   "source": [
    "import requests\n",
    "import json"
   ]
  },
  {
   "cell_type": "markdown",
   "metadata": {},
   "source": [
    "## The relationship between the gene and disease is a known one."
   ]
  },
  {
   "cell_type": "code",
   "execution_count": 4,
   "metadata": {},
   "outputs": [],
   "source": [
    "question = { 'nodes': [{'id':'n0', 'type':'gene', 'curie':'NCBIGene:6569'},\n",
    "                      {'id': 'n1', 'type':'disease', 'curie': 'MONDO:0001083'}],\n",
    "             'edges': [ {'id': 'e0', 'source_id': 'n0', 'target_id': 'n1', 'type': 'contributes_to'}]}\n",
    "message = {'message': {'query_graph': question}}"
   ]
  },
  {
   "cell_type": "code",
   "execution_count": 5,
   "metadata": {},
   "outputs": [
    {
     "name": "stdout",
     "output_type": "stream",
     "text": [
      "3009de61-3b3d-4437-8515-287ef046c5e2\n"
     ]
    }
   ],
   "source": [
    "q = strider.send_message(message)\n",
    "print(q)"
   ]
  },
  {
   "cell_type": "code",
   "execution_count": 6,
   "metadata": {},
   "outputs": [
    {
     "name": "stdout",
     "output_type": "stream",
     "text": [
      "{\n",
      "  \"query_graph\": {\n",
      "    \"nodes\": [\n",
      "      {\n",
      "        \"id\": \"n1\",\n",
      "        \"curie\": \"MONDO:0001083\",\n",
      "        \"type\": \"disease\"\n",
      "      },\n",
      "      {\n",
      "        \"id\": \"n0\",\n",
      "        \"curie\": \"NCBIGene:6569\",\n",
      "        \"type\": \"gene\"\n",
      "      }\n",
      "    ],\n",
      "    \"edges\": [\n",
      "      {\n",
      "        \"id\": \"e0\",\n",
      "        \"type\": \"contributes_to\",\n",
      "        \"source_id\": \"n0\",\n",
      "        \"target_id\": \"n1\"\n",
      "      }\n",
      "    ]\n",
      "  },\n",
      "  \"knowledge_graph\": null,\n",
      "  \"results\": [\n",
      "    {\n",
      "      \"node_bindings\": [\n",
      "        {\n",
      "          \"qg_id\": \"n0\",\n",
      "          \"kg_id\": \"NCBIGene:6569\"\n",
      "        },\n",
      "        {\n",
      "          \"qg_id\": \"n1\",\n",
      "          \"kg_id\": \"MONDO:0001083\"\n",
      "        }\n",
      "      ],\n",
      "      \"edge_bindings\": [\n",
      "        {\n",
      "          \"qg_id\": \"e0\",\n",
      "          \"kg_id\": \"ffa8dda63bb560fb7ef670bec038e6eb\"\n",
      "        }\n",
      "      ]\n",
      "    }\n",
      "  ]\n",
      "}\n"
     ]
    }
   ],
   "source": [
    "strider.query_result(q)"
   ]
  },
  {
   "cell_type": "markdown",
   "metadata": {},
   "source": [
    "## There is no chemical relating the gene to the disease"
   ]
  },
  {
   "cell_type": "code",
   "execution_count": 7,
   "metadata": {},
   "outputs": [],
   "source": [
    "question = { 'nodes': [{'id':'n0', 'type':'gene', 'curie':'NCBIGene:6569'},\n",
    "                       {'id':'n1', 'type':'chemical_substance'},\n",
    "                      {'id': 'n2', 'type':'disease', 'curie':'MONDO:0001083'}],\n",
    "             'edges': [ {'id': 'e0', 'source_id': 'n0', 'target_id': 'n1', 'type':'increases_degradation_of'},\n",
    "                        {'id': 'e1', 'source_id': 'n1', 'target_id': 'n2', 'type':'related_to'}]}\n",
    "message = {'message': {'query_graph': question}}\n",
    "\n",
    "#strider = 'http://robokop.renci.org:5781/query'\n",
    "#response = requests.post(strider,json=message)\n",
    "#print(response.status_code)"
   ]
  },
  {
   "cell_type": "code",
   "execution_count": 8,
   "metadata": {
    "scrolled": true
   },
   "outputs": [],
   "source": [
    "q = strider.send_message(message)"
   ]
  },
  {
   "cell_type": "code",
   "execution_count": 10,
   "metadata": {},
   "outputs": [
    {
     "name": "stdout",
     "output_type": "stream",
     "text": [
      "{\n",
      "  \"query_graph\": {\n",
      "    \"nodes\": [\n",
      "      {\n",
      "        \"id\": \"n1\",\n",
      "        \"curie\": null,\n",
      "        \"type\": \"chemical_substance\"\n",
      "      },\n",
      "      {\n",
      "        \"id\": \"n2\",\n",
      "        \"curie\": \"MONDO:0001083\",\n",
      "        \"type\": \"disease\"\n",
      "      },\n",
      "      {\n",
      "        \"id\": \"n0\",\n",
      "        \"curie\": \"NCBIGene:6569\",\n",
      "        \"type\": \"gene\"\n",
      "      }\n",
      "    ],\n",
      "    \"edges\": [\n",
      "      {\n",
      "        \"id\": \"e0\",\n",
      "        \"type\": \"increases_degradation_of\",\n",
      "        \"source_id\": \"n0\",\n",
      "        \"target_id\": \"n1\"\n",
      "      },\n",
      "      {\n",
      "        \"id\": \"e1\",\n",
      "        \"type\": \"related_to\",\n",
      "        \"source_id\": \"n1\",\n",
      "        \"target_id\": \"n2\"\n",
      "      }\n",
      "    ]\n",
      "  },\n",
      "  \"knowledge_graph\": null,\n",
      "  \"results\": []\n",
      "}\n"
     ]
    }
   ],
   "source": [
    "strider.query_result(q)"
   ]
  },
  {
   "cell_type": "markdown",
   "metadata": {},
   "source": [
    "## We can augment the question with similarity"
   ]
  },
  {
   "cell_type": "code",
   "execution_count": 12,
   "metadata": {},
   "outputs": [
    {
     "name": "stdout",
     "output_type": "stream",
     "text": [
      "1\n",
      "{\n",
      "  \"query_graph\": {\n",
      "    \"nodes\": [\n",
      "      {\n",
      "        \"id\": \"n0\",\n",
      "        \"type\": \"gene\",\n",
      "        \"curie\": \"NCBIGene:6569\"\n",
      "      },\n",
      "      {\n",
      "        \"id\": \"n1\",\n",
      "        \"type\": \"chemical_substance\"\n",
      "      },\n",
      "      {\n",
      "        \"id\": \"n2\",\n",
      "        \"type\": \"disease\",\n",
      "        \"curie\": \"MONDO:0001083\"\n",
      "      },\n",
      "      {\n",
      "        \"id\": \"sim_to_n1_0\",\n",
      "        \"type\": \"chemical_substance\"\n",
      "      }\n",
      "    ],\n",
      "    \"edges\": [\n",
      "      {\n",
      "        \"id\": \"e0\",\n",
      "        \"source_id\": \"n0\",\n",
      "        \"target_id\": \"n1\",\n",
      "        \"type\": \"increases_degradation_of\"\n",
      "      },\n",
      "      {\n",
      "        \"id\": \"e1\",\n",
      "        \"source_id\": \"sim_to_n1_0\",\n",
      "        \"target_id\": \"n2\",\n",
      "        \"type\": \"related_to\"\n",
      "      },\n",
      "      {\n",
      "        \"id\": \"sim_edge_0\",\n",
      "        \"source_id\": \"n1\",\n",
      "        \"target_id\": \"sim_to_n1_0\"\n",
      "      }\n",
      "    ]\n",
      "  }\n",
      "}\n"
     ]
    }
   ],
   "source": [
    "qa_url = 'https://questionaugmentation.renci.org/node_expand'\n",
    "rq = requests.post(qa_url,json=message)\n",
    "new_questions = rq.json()\n",
    "print(len(new_questions))\n",
    "newq = new_questions[0]\n",
    "\n",
    "#newq['query_graph']['edges'][-1]['type']='similar_to'\n",
    "print(json.dumps(newq,indent=2))"
   ]
  },
  {
   "cell_type": "code",
   "execution_count": 46,
   "metadata": {},
   "outputs": [
    {
     "data": {
      "text/plain": [
       "{'message': {'query_graph': {'nodes': [{'id': 'n0',\n",
       "     'type': 'gene',\n",
       "     'curie': 'NCBIGene:6569'},\n",
       "    {'id': 'n1', 'type': 'chemical_substance'},\n",
       "    {'id': 'n2', 'type': 'disease', 'curie': 'MONDO:0001083'},\n",
       "    {'id': 'sim_to_n1_0', 'type': 'chemical_substance'}],\n",
       "   'edges': [{'id': 'e0',\n",
       "     'source_id': 'n0',\n",
       "     'target_id': 'n1',\n",
       "     'type': 'increases_degradation_of'},\n",
       "    {'id': 'e1',\n",
       "     'source_id': 'sim_to_n1_0',\n",
       "     'target_id': 'n2',\n",
       "     'type': 'related_to'},\n",
       "    {'id': 'sim_edge_0',\n",
       "     'source_id': 'n1',\n",
       "     'target_id': 'sim_to_n1_0',\n",
       "     'type': 'similar_to'}]}}}"
      ]
     },
     "execution_count": 46,
     "metadata": {},
     "output_type": "execute_result"
    }
   ],
   "source": [
    "newmessage = {'message': newq}\n",
    "newmessage"
   ]
  },
  {
   "cell_type": "code",
   "execution_count": 56,
   "metadata": {},
   "outputs": [],
   "source": [
    "newmessage = {'message': {'query_graph': {'nodes': [{'id': 'n0',\n",
    "     'type': 'gene',\n",
    "     'curie': 'NCBIGene:6569'},\n",
    "    {'id': 'n1', 'type': 'chemical_substance'},\n",
    "    {'id': 'n2', 'type': 'disease', 'curie': 'MONDO:0001083'},\n",
    "    {'id': 'sim_to_n1_0', 'type': 'chemical_substance'}],\n",
    "   'edges': [{'id': 'e0',\n",
    "     'source_id': 'n0',\n",
    "     'target_id': 'n1',\n",
    "     'type': 'increases_degradation_of'},\n",
    "    {'id': 'e1',\n",
    "     'source_id': 'sim_to_n1_0',\n",
    "     'target_id': 'n2',\n",
    "     'type': 'related_to'},\n",
    "    {'id': 'sim_edge_0',\n",
    "     'source_id': 'n1',\n",
    "     'target_id': 'sim_to_n1_0',\n",
    "     'type': 'derives_from'}]}}}"
   ]
  },
  {
   "cell_type": "code",
   "execution_count": 57,
   "metadata": {},
   "outputs": [],
   "source": [
    "q = strider.send_message(newmessage)"
   ]
  },
  {
   "cell_type": "code",
   "execution_count": 37,
   "metadata": {},
   "outputs": [
    {
     "name": "stdout",
     "output_type": "stream",
     "text": [
      "{\n",
      "  \"detail\": [\n",
      "    {\n",
      "      \"loc\": [\n",
      "        \"query\",\n",
      "        \"query_id\"\n",
      "      ],\n",
      "      \"msg\": \"field required\",\n",
      "      \"type\": \"value_error.missing\"\n",
      "    }\n",
      "  ]\n",
      "}\n"
     ]
    }
   ],
   "source": [
    "strider.query_result(q)"
   ]
  },
  {
   "cell_type": "code",
   "execution_count": null,
   "metadata": {},
   "outputs": [],
   "source": []
  }
 ],
 "metadata": {
  "kernelspec": {
   "display_name": "Python 3",
   "language": "python",
   "name": "python3"
  },
  "language_info": {
   "codemirror_mode": {
    "name": "ipython",
    "version": 3
   },
   "file_extension": ".py",
   "mimetype": "text/x-python",
   "name": "python",
   "nbconvert_exporter": "python",
   "pygments_lexer": "ipython3",
   "version": "3.7.3"
  }
 },
 "nbformat": 4,
 "nbformat_minor": 4
}
