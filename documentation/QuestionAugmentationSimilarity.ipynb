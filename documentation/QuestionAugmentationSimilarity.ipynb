{
 "cells": [
  {
   "cell_type": "markdown",
   "metadata": {},
   "source": [
    "# Question Augmentation (similarity)\n",
    "\n",
    "A frequent source of difficulty in using Translator Knowledge Graphs is the traversal of similar nodes.  If two non-identical (but very similar) concepts exist, they may be independently associated with other information by individual KPs.  If a user is unaware of this subtlety, it is easy to miss highly relevant answers."
   ]
  },
  {
   "cell_type": "markdown",
   "metadata": {},
   "source": [
    "Here is a simple query: (gene)--(chemical)--(disease).  This query might be used to explain gene/disease relationships that are driven by some metabolic process.   For instance, there is a known association between the gene SLC34A1 and Fanconi Syndrome:"
   ]
  },
  {
   "cell_type": "code",
   "execution_count": 1,
   "metadata": {},
   "outputs": [],
   "source": [
    "class RobokopMessenger:\n",
    "    def __init__(self):\n",
    "        self.url = 'http://robokop.renci.org:4868'\n",
    "    def pipeline(self,request,full = True):\n",
    "        #normalize question\n",
    "        response = requests.post( f'{self.url}/normalize', json=request )\n",
    "        normalized = response.json()\n",
    "        #answer question\n",
    "        request = { 'message': normalized, }\n",
    "        response = requests.post( f'{self.url}/answer', json=request )\n",
    "        answered = response.json()\n",
    "        if not full:\n",
    "            return answered\n",
    "        #Yank\n",
    "        request = { 'message': answered, }\n",
    "        response = requests.post( f'{self.url}/yank', json=request )\n",
    "        filled = response.json()\n",
    "        #support\n",
    "        request = { 'message': filled, }\n",
    "        response = requests.post( 'http://robokop.renci.org:4868/support', json=request )\n",
    "        supported = response.json()\n",
    "        #weight\n",
    "        request = { 'message': supported, }\n",
    "        response = requests.post( 'http://robokop.renci.org:4868/weight_correctness', json=request )\n",
    "        weighted = response.json()\n",
    "        #score\n",
    "        request = { 'message': weighted, }\n",
    "        response = requests.post( 'http://robokop.renci.org:4868/score', json=request )\n",
    "        scored = response.json()\n",
    "        return scored\n",
    "\n",
    "    \n",
    "robokop=RobokopMessenger()"
   ]
  },
  {
   "cell_type": "code",
   "execution_count": 2,
   "metadata": {},
   "outputs": [],
   "source": [
    "class Strider:\n",
    "    def __init__(self):\n",
    "        self.url='http://robokop.renci.org:5781'\n",
    "    def call(self,question):\n",
    "        message = {'message': {'query_graph': question}}\n",
    "        return self.send_message(message)\n",
    "    def send_message(self,message):\n",
    "        response = requests.post(f'{self.url}/query',json=message)\n",
    "        if response.status_code == 200:\n",
    "            pid = response.json()\n",
    "            return pid\n",
    "        else:\n",
    "            print(response.status_code)\n",
    "            return None\n",
    "    def query_result(self,pid):\n",
    "        r = requests.get(f'{self.url}/results',params={'query_id':pid})\n",
    "        print(json.dumps(r.json(),indent=2))\n",
    "    \n",
    "strider = Strider()"
   ]
  },
  {
   "cell_type": "code",
   "execution_count": 3,
   "metadata": {},
   "outputs": [],
   "source": [
    "def get_view_url(returnanswer,robokop='robokop.renci.org'):\n",
    "    \"\"\"Given an answer in KGS v0.9 format, post the answer to robokop, and return a link that can be followed to\n",
    "    view the answer in the UI\"\"\"\n",
    "    view_post_url = f'https://{robokop}/api/simple/view/'\n",
    "    view_post_response = requests.post(view_post_url, json=returnanswer)\n",
    "    uid=view_post_response.json()\n",
    "    view_url = f'https://{robokop}/simple/view/{uid}'\n",
    "    return view_url"
   ]
  },
  {
   "cell_type": "code",
   "execution_count": 4,
   "metadata": {},
   "outputs": [],
   "source": [
    "import requests\n",
    "import json"
   ]
  },
  {
   "cell_type": "markdown",
   "metadata": {},
   "source": [
    "## The relationship between the gene and disease is a known one."
   ]
  },
  {
   "cell_type": "code",
   "execution_count": 5,
   "metadata": {},
   "outputs": [],
   "source": [
    "question = { 'nodes': [{'id':'n0', 'type':'gene', 'curie':'NCBIGene:6569'},\n",
    "                      {'id': 'n1', 'type':'disease', 'curie': 'MONDO:0001083'}],\n",
    "             'edges': [ {'id': 'e0', 'source_id': 'n1', 'target_id': 'n0'}]}\n",
    "message = {'message': {'query_graph': question}}"
   ]
  },
  {
   "cell_type": "code",
   "execution_count": 6,
   "metadata": {
    "scrolled": true
   },
   "outputs": [
    {
     "name": "stdout",
     "output_type": "stream",
     "text": [
      "{\n",
      "  \"knowledge_graph\": {\n",
      "    \"edges\": [\n",
      "      {\n",
      "        \"ctime\": [\n",
      "          1573152746.1343825,\n",
      "          1572932974.4445496\n",
      "        ],\n",
      "        \"edge_source\": [\n",
      "          \"pharos.disease_get_gene\",\n",
      "          \"pharos.gene_get_disease\"\n",
      "        ],\n",
      "        \"id\": \"d4bd7eab33347c12a5fac135ad7eab05\",\n",
      "        \"predicate_id\": \"NCIT:R176\",\n",
      "        \"publications\": [],\n",
      "        \"relation\": [\n",
      "          \"PHAROS:gene_involved\",\n",
      "          \"PHAROS:gene_involved\"\n",
      "        ],\n",
      "        \"relation_label\": [\n",
      "          \"gene_involved\",\n",
      "          \"gene_involved\"\n",
      "        ],\n",
      "        \"source_database\": [\n",
      "          \"pharos\",\n",
      "          \"pharos\"\n",
      "        ],\n",
      "        \"source_id\": \"MONDO:0001083\",\n",
      "        \"target_id\": \"HGNC:11019\",\n",
      "        \"type\": \"disease_to_gene_association\",\n",
      "        \"weight\": 1\n",
      "      },\n",
      "      {\n",
      "        \"ctime\": [\n",
      "          1573152747.0609732,\n",
      "          1572932973.4711454\n",
      "        ],\n",
      "        \"edge_source\": [\n",
      "          \"biolink.disease_get_gene\",\n",
      "          \"biolink.gene_get_disease\"\n",
      "        ],\n",
      "        \"id\": \"b15780970d3c676a8b5283cbb314678c\",\n",
      "        \"predicate_id\": \"RO:0002326\",\n",
      "        \"publications\": [],\n",
      "        \"relation\": [\n",
      "          \"RO:0003304\",\n",
      "          \"RO:0003304\"\n",
      "        ],\n",
      "        \"relation_label\": [\n",
      "          \"contributes to condition\",\n",
      "          \"contributes to condition\"\n",
      "        ],\n",
      "        \"source_database\": [\n",
      "          \"biolink\",\n",
      "          \"biolink\"\n",
      "        ],\n",
      "        \"source_id\": \"HGNC:11019\",\n",
      "        \"target_id\": \"MONDO:0001083\",\n",
      "        \"type\": \"contributes_to\",\n",
      "        \"weight\": 1\n",
      "      },\n",
      "      {\n",
      "        \"edge_source\": \"omnicorp.term_to_term\",\n",
      "        \"id\": \"3af077a0-bbc7-48e4-9020-cf6bbc73cf60\",\n",
      "        \"num_publications\": 16,\n",
      "        \"publications\": [],\n",
      "        \"source_database\": \"omnicorp\",\n",
      "        \"source_id\": \"HGNC:11019\",\n",
      "        \"target_id\": \"MONDO:0001083\",\n",
      "        \"type\": \"literature_co-occurrence\",\n",
      "        \"weight\": 1\n",
      "      }\n",
      "    ],\n",
      "    \"nodes\": [\n",
      "      {\n",
      "        \"equivalent_identifiers\": [\n",
      "          \"DOID:1062\",\n",
      "          \"MEDDRA:10037081\",\n",
      "          \"MEDDRA:10016219\",\n",
      "          \"UMLS:C0015624\",\n",
      "          \"MONDO:0001083\"\n",
      "        ],\n",
      "        \"id\": \"MONDO:0001083\",\n",
      "        \"name\": \"Fanconi syndrome\",\n",
      "        \"omnicorp_article_count\": 1984,\n",
      "        \"syndromic_disease\": true,\n",
      "        \"synonyms\": [\n",
      "          \"De toni-debre-Fanconi syndrome\",\n",
      "          \"De toni-Fanconi syndrome\",\n",
      "          \"deToni Fanconi syndrome\",\n",
      "          \"Fanconi renotubular syndrome\",\n",
      "          \"Fanconi syndrome\",\n",
      "          \"Fanconi-de toni syndrome\",\n",
      "          \"Fanconi-de-toni syndrome\",\n",
      "          \"Fanconi's syndrome\",\n",
      "          \"Lignac-Fanconi syndrome\",\n",
      "          \"infantile nephropathic cystinosis\",\n",
      "          \"toni-debre-Fanconi syndrome\"\n",
      "        ],\n",
      "        \"type\": [\n",
      "          \"disease\",\n",
      "          \"disease_or_phenotypic_feature\"\n",
      "        ]\n",
      "      },\n",
      "      {\n",
      "        \"chromosome\": \"5\",\n",
      "        \"description\": \"solute carrier family 34 member 1 [Source:HGNC Symbol;Acc:HGNC:11019]\",\n",
      "        \"end_position\": 177398848,\n",
      "        \"ensembl_name\": \"SLC34A1\",\n",
      "        \"equivalent_identifiers\": [\n",
      "          \"HGNC:11019\",\n",
      "          \"HGNC:11019\",\n",
      "          \"HGNC.SYMBOL:SLC34A1\",\n",
      "          \"NCBIGENE:6569\",\n",
      "          \"UniProtKB:Q06495\",\n",
      "          \"IUPHAR:1135\",\n",
      "          \"ENSEMBL:ENSG00000131183\"\n",
      "        ],\n",
      "        \"gene_biotype\": \"protein_coding\",\n",
      "        \"gene_family\": [\n",
      "          \"Solute carriers\"\n",
      "        ],\n",
      "        \"gene_family_id\": [\n",
      "          752\n",
      "        ],\n",
      "        \"id\": \"HGNC:11019\",\n",
      "        \"location\": \"5q35.3\",\n",
      "        \"locus_group\": \"protein-coding gene\",\n",
      "        \"name\": \"SLC34A1\",\n",
      "        \"omnicorp_article_count\": 432,\n",
      "        \"start_position\": 177379235,\n",
      "        \"synonyms\": [],\n",
      "        \"taxon\": 9606,\n",
      "        \"type\": [\n",
      "          \"gene\",\n",
      "          \"gene_or_gene_product\"\n",
      "        ]\n",
      "      }\n",
      "    ]\n",
      "  },\n",
      "  \"query_graph\": {\n",
      "    \"edges\": [\n",
      "      {\n",
      "        \"id\": \"e0\",\n",
      "        \"source_id\": \"n1\",\n",
      "        \"target_id\": \"n0\"\n",
      "      }\n",
      "    ],\n",
      "    \"nodes\": [\n",
      "      {\n",
      "        \"curie\": [\n",
      "          \"HGNC:11019\"\n",
      "        ],\n",
      "        \"id\": \"n0\",\n",
      "        \"type\": \"gene\"\n",
      "      },\n",
      "      {\n",
      "        \"curie\": [\n",
      "          \"MONDO:0001083\"\n",
      "        ],\n",
      "        \"id\": \"n1\",\n",
      "        \"type\": \"disease\"\n",
      "      }\n",
      "    ]\n",
      "  },\n",
      "  \"results\": [\n",
      "    {\n",
      "      \"edge_bindings\": [\n",
      "        {\n",
      "          \"kg_id\": \"b15780970d3c676a8b5283cbb314678c\",\n",
      "          \"qg_id\": \"e0\",\n",
      "          \"weight\": 0.2679491924311228\n",
      "        },\n",
      "        {\n",
      "          \"kg_id\": \"d4bd7eab33347c12a5fac135ad7eab05\",\n",
      "          \"qg_id\": \"e0\",\n",
      "          \"weight\": 0.2679491924311228\n",
      "        },\n",
      "        {\n",
      "          \"kg_id\": \"3af077a0-bbc7-48e4-9020-cf6bbc73cf60\",\n",
      "          \"qg_id\": \"s0\",\n",
      "          \"weight\": 0.0010964979676488795\n",
      "        }\n",
      "      ],\n",
      "      \"node_bindings\": [\n",
      "        {\n",
      "          \"kg_id\": \"HGNC:11019\",\n",
      "          \"qg_id\": \"n0\"\n",
      "        },\n",
      "        {\n",
      "          \"kg_id\": \"MONDO:0001083\",\n",
      "          \"qg_id\": \"n1\"\n",
      "        }\n",
      "      ],\n",
      "      \"score\": 0.5369948828298947\n",
      "    }\n",
      "  ]\n",
      "}\n"
     ]
    }
   ],
   "source": [
    "result = robokop.pipeline(message)\n",
    "print( json.dumps(result,indent=2))"
   ]
  },
  {
   "cell_type": "code",
   "execution_count": 62,
   "metadata": {},
   "outputs": [
    {
     "name": "stdout",
     "output_type": "stream",
     "text": [
      "cdc8b1ec-be0b-43ae-8848-eecf5a0b81f7\n"
     ]
    }
   ],
   "source": [
    "q = strider.send_message(message)\n",
    "print(q)"
   ]
  },
  {
   "cell_type": "code",
   "execution_count": 66,
   "metadata": {},
   "outputs": [
    {
     "name": "stdout",
     "output_type": "stream",
     "text": [
      "[]\n"
     ]
    }
   ],
   "source": [
    "strider.query_result(q)"
   ]
  },
  {
   "cell_type": "markdown",
   "metadata": {},
   "source": [
    "## There is no chemical relating the gene to the disease"
   ]
  },
  {
   "cell_type": "code",
   "execution_count": 7,
   "metadata": {},
   "outputs": [],
   "source": [
    "question = { 'nodes': [{'id':'n0', 'type':'gene', 'curie':'NCBIGene:6569'},\n",
    "                       {'id':'n1', 'type':'chemical_substance'},\n",
    "                      {'id': 'n2', 'type':'disease', 'curie':'MONDO:0001083'}],\n",
    "             'edges': [ {'id': 'e0', 'source_id': 'n0', 'target_id': 'n1'},\n",
    "                        {'id': 'e1', 'source_id': 'n1', 'target_id': 'n2'}]}\n",
    "message = {'message': {'query_graph': question}}\n",
    "\n",
    "#strider = 'http://robokop.renci.org:5781/query'\n",
    "#response = requests.post(strider,json=message)\n",
    "#print(response.status_code)"
   ]
  },
  {
   "cell_type": "code",
   "execution_count": 8,
   "metadata": {
    "scrolled": true
   },
   "outputs": [
    {
     "name": "stdout",
     "output_type": "stream",
     "text": [
      "{\n",
      "  \"knowledge_graph\": {\n",
      "    \"edges\": [],\n",
      "    \"nodes\": []\n",
      "  },\n",
      "  \"query_graph\": {\n",
      "    \"edges\": [\n",
      "      {\n",
      "        \"id\": \"e0\",\n",
      "        \"source_id\": \"n0\",\n",
      "        \"target_id\": \"n1\"\n",
      "      },\n",
      "      {\n",
      "        \"id\": \"e1\",\n",
      "        \"source_id\": \"n1\",\n",
      "        \"target_id\": \"n2\"\n",
      "      }\n",
      "    ],\n",
      "    \"nodes\": [\n",
      "      {\n",
      "        \"curie\": [\n",
      "          \"HGNC:11019\"\n",
      "        ],\n",
      "        \"id\": \"n0\",\n",
      "        \"type\": \"gene\"\n",
      "      },\n",
      "      {\n",
      "        \"id\": \"n1\",\n",
      "        \"type\": \"chemical_substance\"\n",
      "      },\n",
      "      {\n",
      "        \"curie\": [\n",
      "          \"MONDO:0001083\"\n",
      "        ],\n",
      "        \"id\": \"n2\",\n",
      "        \"type\": \"disease\"\n",
      "      }\n",
      "    ]\n",
      "  },\n",
      "  \"results\": []\n",
      "}\n"
     ]
    }
   ],
   "source": [
    "result = robokop.pipeline(message)\n",
    "print( json.dumps(result,indent=2))"
   ]
  },
  {
   "cell_type": "markdown",
   "metadata": {},
   "source": [
    "## We can augment the question with similarity"
   ]
  },
  {
   "cell_type": "code",
   "execution_count": 12,
   "metadata": {},
   "outputs": [
    {
     "name": "stdout",
     "output_type": "stream",
     "text": [
      "1\n",
      "{\n",
      "  \"query_graph\": {\n",
      "    \"nodes\": [\n",
      "      {\n",
      "        \"id\": \"n0\",\n",
      "        \"type\": \"gene\",\n",
      "        \"curie\": \"NCBIGene:6569\"\n",
      "      },\n",
      "      {\n",
      "        \"id\": \"n1\",\n",
      "        \"type\": \"chemical_substance\"\n",
      "      },\n",
      "      {\n",
      "        \"id\": \"n2\",\n",
      "        \"type\": \"disease\",\n",
      "        \"curie\": \"MONDO:0001083\"\n",
      "      },\n",
      "      {\n",
      "        \"id\": \"sim_to_n1_0\",\n",
      "        \"type\": \"chemical_substance\"\n",
      "      }\n",
      "    ],\n",
      "    \"edges\": [\n",
      "      {\n",
      "        \"id\": \"e0\",\n",
      "        \"source_id\": \"n0\",\n",
      "        \"target_id\": \"n1\"\n",
      "      },\n",
      "      {\n",
      "        \"id\": \"e1\",\n",
      "        \"source_id\": \"sim_to_n1_0\",\n",
      "        \"target_id\": \"n2\"\n",
      "      },\n",
      "      {\n",
      "        \"id\": \"sim_edge_0\",\n",
      "        \"source_id\": \"n1\",\n",
      "        \"target_id\": \"sim_to_n1_0\"\n",
      "      }\n",
      "    ]\n",
      "  }\n",
      "}\n"
     ]
    }
   ],
   "source": [
    "qa_url = 'https://questionaugmentation.renci.org/node_expand'\n",
    "rq = requests.post(qa_url,json=message)\n",
    "new_questions = rq.json()\n",
    "print(len(new_questions))\n",
    "newq = new_questions[0]\n",
    "print(json.dumps(newq,indent=2))"
   ]
  },
  {
   "cell_type": "code",
   "execution_count": 16,
   "metadata": {},
   "outputs": [],
   "source": [
    "newmessage = {'message': newq}"
   ]
  },
  {
   "cell_type": "code",
   "execution_count": 17,
   "metadata": {},
   "outputs": [
    {
     "name": "stdout",
     "output_type": "stream",
     "text": [
      "{\n",
      "  \"detail\": \"The server encountered an internal error and was unable to complete your request. Either the server is overloaded or there is an error in the application.\",\n",
      "  \"status\": 500,\n",
      "  \"title\": \"Internal Server Error\",\n",
      "  \"type\": \"about:blank\"\n",
      "}\n"
     ]
    }
   ],
   "source": [
    "result = robokop.pipeline(newmessage)\n",
    "print( json.dumps(result,indent=2))"
   ]
  },
  {
   "cell_type": "code",
   "execution_count": 18,
   "metadata": {},
   "outputs": [
    {
     "data": {
      "text/plain": [
       "{'message': {'query_graph': {'nodes': [{'id': 'n0',\n",
       "     'type': 'gene',\n",
       "     'curie': 'NCBIGene:6569'},\n",
       "    {'id': 'n1', 'type': 'chemical_substance'},\n",
       "    {'id': 'n2', 'type': 'disease', 'curie': 'MONDO:0001083'},\n",
       "    {'id': 'sim_to_n1_0', 'type': 'chemical_substance'}],\n",
       "   'edges': [{'id': 'e0', 'source_id': 'n0', 'target_id': 'n1'},\n",
       "    {'id': 'e1', 'source_id': 'sim_to_n1_0', 'target_id': 'n2'},\n",
       "    {'id': 'sim_edge_0', 'source_id': 'n1', 'target_id': 'sim_to_n1_0'}]}}}"
      ]
     },
     "execution_count": 18,
     "metadata": {},
     "output_type": "execute_result"
    }
   ],
   "source": [
    "newmessage"
   ]
  },
  {
   "cell_type": "code",
   "execution_count": null,
   "metadata": {},
   "outputs": [],
   "source": []
  }
 ],
 "metadata": {
  "kernelspec": {
   "display_name": "Python 3",
   "language": "python",
   "name": "python3"
  },
  "language_info": {
   "codemirror_mode": {
    "name": "ipython",
    "version": 3
   },
   "file_extension": ".py",
   "mimetype": "text/x-python",
   "name": "python",
   "nbconvert_exporter": "python",
   "pygments_lexer": "ipython3",
   "version": "3.7.3"
  }
 },
 "nbformat": 4,
 "nbformat_minor": 4
}
