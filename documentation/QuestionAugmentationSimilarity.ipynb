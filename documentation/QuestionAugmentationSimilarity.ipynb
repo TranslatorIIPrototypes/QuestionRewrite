{
 "cells": [
  {
   "cell_type": "markdown",
   "metadata": {},
   "source": [
    "# Question Augmentation (similarity)\n",
    "\n",
    "A frequent source of difficulty in using Translator Knowledge Graphs is the traversal of similar nodes.  If two non-identical (but very similar) concepts exist, they may be independently associated with other information by individual KPs.  If a user is unaware of this subtlety, it is easy to miss highly relevant answers."
   ]
  },
  {
   "cell_type": "markdown",
   "metadata": {},
   "source": [
    "Here is a simple query: (gene)--(chemical)--(disease).  This query might be used to explain gene/disease relationships that are driven by some metabolic process.   For instance, there is a known association between the gene SLC13A2 and Ulcerative Colitis:"
   ]
  },
  {
   "cell_type": "code",
   "execution_count": 38,
   "metadata": {},
   "outputs": [],
   "source": [
    "class RobokopMessenger:\n",
    "    def __init__(self):\n",
    "        self.url = 'http://robokop.renci.org:4868'\n",
    "    def pipeline(self,request,yank = True):\n",
    "        #normalize question\n",
    "        response = requests.post( f'{self.url}/normalize', json=request )\n",
    "        normalized = response.json()\n",
    "        #answer question\n",
    "        request = { 'message': normalized, }\n",
    "        response = requests.post( f'{self.url}/answer', json=request )\n",
    "        answered = response.json()\n",
    "        if not yank:\n",
    "            return answered\n",
    "        #Yank\n",
    "        request = { 'message': answered, }\n",
    "        response = requests.post( f'{self.url}/yank', json=request )\n",
    "        filled = response.json()\n",
    "        return filled\n",
    "    def get_links_for(self,curie,stype):\n",
    "        query = { 'nodes': [{'id': 'n0', 'curie':curie, 'type': stype},\n",
    "                            {'id': 'n1'}],\n",
    "                  'edges': [{'id': 'e0', 'source_id': 'n0', 'target_id': 'n1'}]}\n",
    "        request = { \"message\": { \"query_graph\": query } }\n",
    "        result = self.pipeline(request)\n",
    "        \n",
    "def get_view_url(returnanswer,robokop='robokop.renci.org'):\n",
    "    \"\"\"Given an answer in KGS v0.9 format, post the answer to robokop, and return a link that can be followed to\n",
    "    view the answer in the UI\"\"\"\n",
    "    view_post_url = f'http://{robokop}/api/simple/view/'\n",
    "    view_post_response = requests.post(view_post_url, json=returnanswer)\n",
    "    uid=view_post_response.json()\n",
    "    view_url = f'http://{robokop}/simple/view/{uid}'\n",
    "    return view_url"
   ]
  },
  {
   "cell_type": "code",
   "execution_count": 44,
   "metadata": {},
   "outputs": [
    {
     "name": "stdout",
     "output_type": "stream",
     "text": [
      "[]\n"
     ]
    }
   ],
   "source": [
    "import requests\n",
    "import json\n",
    "\n",
    "question = { 'nodes': [{'id':'n0', 'type':'gene', 'curie':'NCBIGene:5443'},\n",
    "                      {'id': 'n1', 'type':'disease'}],\n",
    "             'edges': [ {'id': 'e0', 'source_id': 'n1', 'target_id': 'n0', 'type':'contributes_to'}]}\n",
    "message = {'message': {'query_graph': question}}\n",
    "\n",
    "#vm = {'message':{'query_graph':question, 'knowledge_graph':{}, 'results':[]}}\n",
    "#url = get_view_url(vm)\n",
    "#print(url)\n",
    "\n",
    "strider = 'http://robokop.renci.org:5781/query'\n",
    "response = requests.post(strider,json=message)\n",
    "if response.status_code == 200:\n",
    "    pid = response.json()\n",
    "    r = requests.get('http://robokop.renci.org:5781/results',params={'query_id':pid})\n",
    "    print(json.dumps(r.json(),indent=2))\n",
    "else:\n",
    "    print(response.status_code)\n",
    "\n"
   ]
  },
  {
   "cell_type": "code",
   "execution_count": 16,
   "metadata": {},
   "outputs": [
    {
     "name": "stdout",
     "output_type": "stream",
     "text": [
      "{'knowledge_graph': {'edges': [{'ctime': [1573152307.1818748, 1572941363.5901597], 'edge_source': ['pharos.disease_get_gene', 'pharos.gene_get_disease'], 'id': 'e6acbff807fd74bcd891b32ca7c11f6f', 'predicate_id': 'NCIT:R176', 'publications': [], 'relation': ['PHAROS:gene_involved', 'PHAROS:gene_involved'], 'relation_label': ['gene_involved', 'gene_involved'], 'source_database': ['pharos', 'pharos'], 'source_id': 'MONDO:0005090', 'target_id': 'HGNC:9201', 'type': 'disease_to_gene_association'}], 'nodes': [{'equivalent_identifiers': ['MEDDRA:10039642', 'DOID:5419', 'MEDDRA:10039632', 'MEDDRA:10012297', 'MEDDRA:10039626', 'MESH:D012559', 'UMLS:C0036341', 'MEDDRA:10046156', 'MONDO:0005090', 'MEDDRA:10046150', 'EFO:0000692'], 'id': 'MONDO:0005090', 'name': 'Schizophrenia', 'psychiatric_disorder': True, 'synonyms': ['schizophrenia', 'schizophrenia-1', 'schizoaffective disorder', 'schizophrenia with or without an affective disorder', 'schizophrenia; SCZD', 'SCZD'], 'type': ['disease', 'disease_or_phenotypic_feature', 'phenotypic_feature']}, {'chromosome': '2', 'description': 'proopiomelanocortin [Source:HGNC Symbol;Acc:HGNC:9201]', 'end_position': 25168903, 'ensembl_name': 'POMC', 'equivalent_identifiers': ['ENSEMBL:ENSG00000115138', 'NCBIGENE:5443', 'UniProtKB:P01189', 'HGNC.SYMBOL:POMC', 'HGNC:9201', 'HGNC:9201'], 'gene_biotype': 'protein_coding', 'gene_family': ['Neuropeptides'], 'gene_family_id': [1902], 'id': 'HGNC:9201', 'location': '2p23.3', 'locus_group': 'protein-coding gene', 'name': 'POMC', 'start_position': 25160853, 'synonyms': [], 'taxon': 9606, 'type': ['gene', 'gene_or_gene_product']}]}, 'query_graph': {'edges': [{'id': 'e0', 'source_id': 'n0', 'target_id': 'n1'}], 'nodes': [{'curie': ['HGNC:9201'], 'id': 'n0', 'type': 'gene'}, {'curie': ['MONDO:0005090'], 'id': 'n1', 'type': 'disease'}]}, 'results': [{'edge_bindings': [{'kg_id': 'e6acbff807fd74bcd891b32ca7c11f6f', 'qg_id': 'e0'}], 'node_bindings': [{'kg_id': 'HGNC:9201', 'qg_id': 'n0'}, {'kg_id': 'MONDO:0005090', 'qg_id': 'n1'}]}]}\n"
     ]
    }
   ],
   "source": [
    "rm = RobokopMessenger()\n",
    "result = rm.pipeline(message, yank=True)\n",
    "print(result)"
   ]
  },
  {
   "cell_type": "markdown",
   "metadata": {},
   "source": [
    "And I can ask for chemicals that relate the gene and disease:"
   ]
  },
  {
   "cell_type": "code",
   "execution_count": 17,
   "metadata": {},
   "outputs": [
    {
     "name": "stdout",
     "output_type": "stream",
     "text": [
      "500\n"
     ]
    }
   ],
   "source": [
    "question = { 'nodes': [{'id':'n0', 'type':'gene', 'curie':'NCBIGene:5443'},\n",
    "                       {'id':'n1', 'type':'chemical_substance'},\n",
    "                      {'id': 'n2', 'type':'disease', 'curie':'MONDO:0005090'}],\n",
    "             'edges': [ {'id': 'e0', 'source_id': 'n0', 'target_id': 'n1'},\n",
    "                        {'id': 'e1', 'source_id': 'n1', 'target_id': 'n2'}]}\n",
    "message = {'message': {'query_graph': question}}\n",
    "\n",
    "strider = 'http://robokop.renci.org:5781/query'\n",
    "response = requests.post(strider,json=message)\n",
    "print(response.status_code)"
   ]
  },
  {
   "cell_type": "code",
   "execution_count": null,
   "metadata": {},
   "outputs": [],
   "source": []
  }
 ],
 "metadata": {
  "kernelspec": {
   "display_name": "Python 3",
   "language": "python",
   "name": "python3"
  },
  "language_info": {
   "codemirror_mode": {
    "name": "ipython",
    "version": 3
   },
   "file_extension": ".py",
   "mimetype": "text/x-python",
   "name": "python",
   "nbconvert_exporter": "python",
   "pygments_lexer": "ipython3",
   "version": "3.7.5"
  }
 },
 "nbformat": 4,
 "nbformat_minor": 4
}
